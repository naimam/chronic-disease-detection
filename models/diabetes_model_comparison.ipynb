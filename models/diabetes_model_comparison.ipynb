{
  "cells": [
    {
      "cell_type": "markdown",
      "id": "61202cc6",
      "metadata": {
        "id": "61202cc6"
      },
      "source": [
        "# Diabetes Prediction - Model Comparison\n",
        "This notebook compares several ML models to predict the likelihood of having diabetes."
      ]
    },
    {
      "cell_type": "code",
      "execution_count": null,
      "id": "045e2f3b",
      "metadata": {
        "colab": {
          "base_uri": "https://localhost:8080/",
          "height": 206
        },
        "id": "045e2f3b",
        "outputId": "60865230-c3ff-4b90-e73c-a68cacaff5a6"
      },
      "outputs": [],
      "source": [
        "import pandas as pd\n",
        "from sklearn.model_selection import train_test_split\n",
        "from sklearn.metrics import classification_report, accuracy_score, roc_auc_score\n",
        "from sklearn.ensemble import RandomForestClassifier\n",
        "from sklearn.linear_model import LogisticRegression\n",
        "from sklearn.svm import SVC\n",
        "from sklearn.neighbors import KNeighborsClassifier\n",
        "from xgboost import XGBClassifier\n",
        "import warnings\n",
        "warnings.filterwarnings(\"ignore\")\n",
        "\n",
        "df = pd.read_csv(\"diabetes.csv\")\n",
        "df.head()\n"
      ]
    },
    {
      "cell_type": "markdown",
      "id": "6643354a",
      "metadata": {
        "id": "6643354a"
      },
      "source": [
        "## Prepare the data"
      ]
    },
    {
      "cell_type": "code",
      "execution_count": null,
      "id": "eca0a76b",
      "metadata": {
        "id": "eca0a76b"
      },
      "outputs": [],
      "source": [
        "X = df.drop(columns=[\"Outcome\"])\n",
        "y = df[\"Outcome\"]\n",
        "\n",
        "X_train, X_test, y_train, y_test = train_test_split(X, y, test_size=0.2, random_state=42)\n"
      ]
    },
    {
      "cell_type": "markdown",
      "id": "d6d36b1c",
      "metadata": {
        "id": "d6d36b1c"
      },
      "source": [
        "## Train and evaluate models"
      ]
    },
    {
      "cell_type": "code",
      "execution_count": null,
      "id": "8edd01c3",
      "metadata": {
        "colab": {
          "base_uri": "https://localhost:8080/"
        },
        "id": "8edd01c3",
        "outputId": "21baf41a-4584-43d7-e908-4542ac49f94a"
      },
      "outputs": [],
      "source": [
        "models = {\n",
        "    \"Random Forest\": RandomForestClassifier(random_state=42),\n",
        "    \"Logistic Regression\": LogisticRegression(max_iter=1000),\n",
        "    \"SVM\": SVC(probability=True),\n",
        "    \"KNN\": KNeighborsClassifier(),\n",
        "    \"XGBoost\": XGBClassifier(use_label_encoder=False, eval_metric='logloss')\n",
        "}\n",
        "\n",
        "results = []\n",
        "\n",
        "for name, model in models.items():\n",
        "    model.fit(X_train, y_train)\n",
        "    preds = model.predict(X_test)\n",
        "    proba = model.predict_proba(X_test)[:, 1]\n",
        "\n",
        "    acc = accuracy_score(y_test, preds)\n",
        "    auc = roc_auc_score(y_test, proba)\n",
        "\n",
        "    results.append((name, acc, auc))\n",
        "    print(f\"Model: {name}\")\n",
        "    print(f\"Accuracy: {acc:.4f}, AUC: {auc:.4f}\")\n",
        "    print(classification_report(y_test, preds))\n",
        "    print(\"-\" * 40)\n",
        "\n",
        "best_model_name, best_acc, best_auc = max(results, key=lambda x: x[2])\n",
        "print(f\"Best Model: {best_model_name} (AUC = {best_auc:.4f})\")\n",
        "\n",
        "best_model = models[best_model_name]\n"
      ]
    },
    {
      "cell_type": "markdown",
      "id": "3f9c60e5",
      "metadata": {
        "id": "3f9c60e5"
      },
      "source": [
        "## Make a Prediction with Best Model"
      ]
    },
    {
      "cell_type": "code",
      "execution_count": null,
      "id": "ab922a3e",
      "metadata": {
        "colab": {
          "base_uri": "https://localhost:8080/"
        },
        "id": "ab922a3e",
        "outputId": "b0580110-0399-4d6e-87ba-99471fca6d19"
      },
      "outputs": [],
      "source": [
        "input_data = {\n",
        "    \"Pregnancies\": 2,\n",
        "    \"Glucose\": 120,\n",
        "    \"BloodPressure\": 70,\n",
        "    \"SkinThickness\": 20,\n",
        "    \"Insulin\": 85,\n",
        "    \"BMI\": 28.0,\n",
        "    \"DiabetesPedigreeFunction\": 0.5,\n",
        "    \"Age\": 35,\n",
        "    \"FamilyHistory\": \"Yes\"\n",
        "}\n",
        "\n",
        "input_df = pd.DataFrame([input_data])\n",
        "input_features = input_df.drop(columns=[\"FamilyHistory\"])\n",
        "\n",
        "proba = best_model.predict_proba(input_features)[0][1]\n",
        "print(f\"Chance of having diabetes: {proba * 100:.2f}%\")\n",
        "\n",
        "prediction = best_model.predict(input_features)[0]\n",
        "print(\"Prediction:\", \"Has diabetes\" if prediction == 1 else \"No diabetes\")\n"
      ]
    },
    {
      "cell_type": "code",
      "execution_count": null,
      "id": "save-best-model",
      "metadata": {},
      "outputs": [],
      "source": [
        "import joblib\n",
        "joblib.dump(best_model, \"best_diabetes_model.pkl\")\n"
      ]
    }
  ],
  "metadata": {
    "colab": {
      "provenance": []
    },
    "language_info": {
      "name": "python"
    },
    "kernelspec": {
      "name": "python3",
      "display_name": "Python 3"
    }
  },
  "nbformat": 4,
  "nbformat_minor": 5
}
